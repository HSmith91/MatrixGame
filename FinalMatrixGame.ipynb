{
 "cells": [
  {
   "cell_type": "code",
   "execution_count": 1,
   "id": "af688f1d-5c76-470d-85ef-5ffc2bd95e52",
   "metadata": {},
   "outputs": [],
   "source": [
    "import numpy as np\n",
    "import scipy.linalg as LA"
   ]
  },
  {
   "cell_type": "code",
   "execution_count": 2,
   "id": "463c3e22-8706-4cdd-ba67-aa45e8c46829",
   "metadata": {},
   "outputs": [],
   "source": [
    "#Need a game which takes turn as input, P1 first -> turn = 1\n",
    "#                                       P2 first -> turn = 2\n",
    "\n",
    "\n",
    "#Game involves players enter zero's or ones into a Matrix A\n",
    "\n",
    "#Takes a player input for which a player chooses what a_i,j \n",
    "#they wish to enter a 0 (for P1) or a 1 (for P2) into.\n",
    "\n",
    "#The game continues until the matrix is full\n",
    "#P1 wins if DetA = 0\n",
    "#P2 wins if DetA != 0"
   ]
  },
  {
   "cell_type": "code",
   "execution_count": 3,
   "id": "cc1e1932-c759-433f-a2ec-59fbe366e3ed",
   "metadata": {
    "tags": []
   },
   "outputs": [
    {
     "name": "stdout",
     "output_type": "stream",
     "text": [
      "\n"
     ]
    },
    {
     "name": "stdin",
     "output_type": "stream",
     "text": [
      "Your turn: What row of the 3x3 matrix will you enter a 0 into? 3\n",
      "What column of the 3x3 matrix will you enter a 0 into? 2\n"
     ]
    },
    {
     "name": "stdout",
     "output_type": "stream",
     "text": [
      "\n",
      "[[5. 5. 5.]\n",
      " [5. 5. 5.]\n",
      " [5. 0. 5.]] Here is the new Matrix!, You put a zero at (3,2)\n",
      "\n",
      "Player 2's turn, they've inputted a 1 at the co-ordinate (1, 1).\n",
      "\n",
      "[[1. 5. 5.]\n",
      " [5. 5. 5.]\n",
      " [5. 0. 5.]] Here is the new Matrix!\n",
      "\n"
     ]
    },
    {
     "name": "stdin",
     "output_type": "stream",
     "text": [
      "Your turn: What row of the 3x3 matrix will you enter a 0 into? 1\n",
      "What column of the 3x3 matrix will you enter a 0 into? 2\n"
     ]
    },
    {
     "name": "stdout",
     "output_type": "stream",
     "text": [
      "\n",
      "[[1. 0. 5.]\n",
      " [5. 5. 5.]\n",
      " [5. 0. 5.]] Here is the new Matrix!, You put a zero at (1,2)\n",
      "\n",
      "Player 2's turn, they've inputted a 1 at the co-ordinate (1, 3).\n",
      "\n",
      "[[1. 0. 1.]\n",
      " [5. 5. 5.]\n",
      " [5. 0. 5.]] Here is the new Matrix!\n",
      "\n"
     ]
    },
    {
     "name": "stdin",
     "output_type": "stream",
     "text": [
      "Your turn: What row of the 3x3 matrix will you enter a 0 into? 1\n",
      "What column of the 3x3 matrix will you enter a 0 into? 3\n"
     ]
    },
    {
     "name": "stdout",
     "output_type": "stream",
     "text": [
      "\n",
      "A player has already put something there!\n",
      "\n"
     ]
    },
    {
     "name": "stdin",
     "output_type": "stream",
     "text": [
      "Your turn: What row of the 3x3 matrix will you enter a 0 into? 2\n",
      "What column of the 3x3 matrix will you enter a 0 into? 1\n"
     ]
    },
    {
     "name": "stdout",
     "output_type": "stream",
     "text": [
      "\n",
      "[[1. 0. 1.]\n",
      " [0. 5. 5.]\n",
      " [5. 0. 5.]] Here is the new Matrix!, You put a zero at (2,1)\n",
      "\n",
      "\n",
      "Player 2's turn, they've inputted a 1 at the co-ordinate (2, 2).\n",
      "\n",
      "[[1. 0. 1.]\n",
      " [0. 1. 5.]\n",
      " [5. 0. 5.]] Here is the new Matrix!\n",
      "\n"
     ]
    },
    {
     "name": "stdin",
     "output_type": "stream",
     "text": [
      "Your turn: What row of the 3x3 matrix will you enter a 0 into? 2\n",
      "What column of the 3x3 matrix will you enter a 0 into? 3\n"
     ]
    },
    {
     "name": "stdout",
     "output_type": "stream",
     "text": [
      "\n",
      "[[1. 0. 1.]\n",
      " [0. 1. 0.]\n",
      " [5. 0. 5.]] Here is the new Matrix!, You put a zero at (2,3)\n",
      "\n",
      "\n",
      "\n",
      "Player 2's turn, they've inputted a 1 at the co-ordinate (3, 3).\n",
      "\n",
      "[[1. 0. 1.]\n",
      " [0. 1. 0.]\n",
      " [5. 0. 1.]] Here is the new Matrix!\n",
      "\n"
     ]
    },
    {
     "name": "stdin",
     "output_type": "stream",
     "text": [
      "Your turn: What row of the 3x3 matrix will you enter a 0 into? 1\n",
      "What column of the 3x3 matrix will you enter a 0 into? 3\n"
     ]
    },
    {
     "name": "stdout",
     "output_type": "stream",
     "text": [
      "\n",
      "A player has already put something there!\n",
      "\n"
     ]
    },
    {
     "name": "stdin",
     "output_type": "stream",
     "text": [
      "Your turn: What row of the 3x3 matrix will you enter a 0 into? 3\n",
      "What column of the 3x3 matrix will you enter a 0 into? 1\n"
     ]
    },
    {
     "name": "stdout",
     "output_type": "stream",
     "text": [
      "\n",
      "[[1. 0. 1.]\n",
      " [0. 1. 0.]\n",
      " [0. 0. 1.]] Here is the new Matrix!, You put a zero at (3,1)\n",
      "\n",
      "DetA = 1.0, you lose!\n"
     ]
    }
   ],
   "source": [
    "rng = np.random.default_rng()\n",
    "n = 3\n",
    "\n",
    "dets = []\n",
    "\n",
    "A = np.empty((n,n))\n",
    "A.fill(5)\n",
    "\n",
    "def checkx(x, n): #Prevents player from inputting rows or columns outside the matrix\n",
    "    while True:\n",
    "        if not (1<=x<=n):\n",
    "            print()\n",
    "            print('Nope, choose again!')\n",
    "            x = int(input(f\"Your turn: What row of the {n}x{n} matrix will you enter a 0 into?\"))\n",
    "        else: return x\n",
    "            \n",
    "\n",
    "def checky(y, n): #Prevents player from inputting rows or columns outside the matrix\n",
    "    while True:\n",
    "        if not (1<=y<=n):\n",
    "            print()\n",
    "            print('Nope, choose again!')\n",
    "            y = int(input(f\"What column of the {n}x{n} matrix will you enter a 0 into?\"))\n",
    "        else: return y\n",
    "\n",
    "def checkDet(A): #Function to check the determinant of A and decide winner\n",
    "    while True:\n",
    "        if (LA.det(A)==0):\n",
    "            print()\n",
    "            print(f\"DetA = {LA.det(A)}, you win!\")\n",
    "            dets.append(LA.det(A))\n",
    "            return 0\n",
    "        elif (LA.det(A)!=0):\n",
    "            print()\n",
    "            print(f\"DetA = {LA.det(A)}, you lose!\")\n",
    "            dets.append(LA.det(A))\n",
    "            return 0 \n",
    "        else: return 0\n",
    "    \n",
    "\n",
    "    \n",
    "\n",
    "def game(turn): #Function to play the matrix game\n",
    "    global A\n",
    "    if turn == 1:\n",
    "        print()\n",
    "        x = int(input(f\"Your turn: What row of the {n}x{n} matrix will you enter a 0 into?\"))\n",
    "        x = checkx(x, n)\n",
    "        y = int(input(f\"What column of the {n}x{n} matrix will you enter a 0 into?\"))\n",
    "        y = checky(y, n)\n",
    "        while True:\n",
    "            if (A[x-1,y-1]==0) or (A[x-1,y-1]==1):\n",
    "                print()\n",
    "                print('A player has already put something there!')\n",
    "                print()\n",
    "                x = int(input(f\"Your turn: What row of the {n}x{n} matrix will you enter a 0 into?\"))\n",
    "                x = checkx(x, n)\n",
    "                y = int(input(f\"What column of the {n}x{n} matrix will you enter a 0 into?\"))\n",
    "                y = checky(y, n)\n",
    "            else: \n",
    "                A[x-1,y-1]=0\n",
    "                print()\n",
    "                print(A, 'Here is the new Matrix!, You put a zero at', f\"({x},{y})\")\n",
    "                if (np.all((A==0) | (A ==1))):\n",
    "                    checkDet(A)\n",
    "                    return 0\n",
    "                game(2)\n",
    "                break\n",
    "        \n",
    "    else:\n",
    "        x = rng.integers(1, n+1)\n",
    "        y = rng.integers(1, n+1)\n",
    "        while True:\n",
    "            if (A[x-1,y-1]==0) or (A[x-1,y-1]==1):\n",
    "                print()\n",
    "                #print(f\"P2 tried to place a 1 at ({x},{y}) but there was something already there!\")\n",
    "                x = rng.integers(1, n+1)\n",
    "                y = rng.integers(1, n+1)\n",
    "            else:\n",
    "                A[x-1,y-1] = 1      \n",
    "                print()\n",
    "                print(f\"Player 2's turn, they've inputted a 1 at the co-ordinate {x,y}.\")\n",
    "                print()\n",
    "                print(A, 'Here is the new Matrix!')\n",
    "                if (np.all((A==0) | (A ==1))):\n",
    "                    checkDet(A)\n",
    "                    return 0\n",
    "                game(1)\n",
    "                break\n",
    "        \n",
    "\n",
    "        \n",
    "        \n",
    "turn = 1              \n",
    "\n",
    "game(turn)"
   ]
  }
 ],
 "metadata": {
  "kernelspec": {
   "display_name": "Python 3 (ipykernel)",
   "language": "python",
   "name": "python3"
  },
  "language_info": {
   "codemirror_mode": {
    "name": "ipython",
    "version": 3
   },
   "file_extension": ".py",
   "mimetype": "text/x-python",
   "name": "python",
   "nbconvert_exporter": "python",
   "pygments_lexer": "ipython3",
   "version": "3.11.5"
  }
 },
 "nbformat": 4,
 "nbformat_minor": 5
}
